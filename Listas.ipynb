{
  "nbformat": 4,
  "nbformat_minor": 0,
  "metadata": {
    "colab": {
      "provenance": [],
      "authorship_tag": "ABX9TyM8RAo4/rRVjmjqdtDtL+Wj",
      "include_colab_link": true
    },
    "kernelspec": {
      "name": "python3",
      "display_name": "Python 3"
    },
    "language_info": {
      "name": "python"
    }
  },
  "cells": [
    {
      "cell_type": "markdown",
      "metadata": {
        "id": "view-in-github",
        "colab_type": "text"
      },
      "source": [
        "<a href=\"https://colab.research.google.com/github/Miguelin69/Entero_dosultimos_iguales/blob/main/Listas.ipynb\" target=\"_parent\"><img src=\"https://colab.research.google.com/assets/colab-badge.svg\" alt=\"Open In Colab\"/></a>"
      ]
    },
    {
      "cell_type": "markdown",
      "source": [
        "LISTAS\n",
        "\n",
        "\n",
        "\n",
        "---\n",
        "\n",
        "\n",
        "\n",
        "*   Son colecciones ordenadas de datos los cuales pueden ser de cualquier tipo.\n",
        "*   Las listas son mutables.\n",
        "*   Las listas se agrupan dentro de corchetes[].\n",
        "*   Los elementos de una lista se separan por comas.\n",
        "\n",
        "\n",
        "\n"
      ],
      "metadata": {
        "id": "YT-D2t4SXjVV"
      }
    },
    {
      "cell_type": "code",
      "source": [
        "# funciones asociadas a las listas\n",
        "\n",
        "dias_laborales = [\"lunes\" , \"martes\" , \"miercoles\"]\n",
        "colores_primarios = [\"rojo\" , \"verde\" , \"azul\"]\n",
        "pares =list(range(0,30,2))\n",
        "\n",
        "print(dias_laborales)\n",
        "dias_laborales.append(\"sabado\")\n",
        "print(dias_laborales)\n",
        "print(f\"el lunes aparece {dias_laborales.count(\"lunes\")} veces\")\n",
        "\n",
        "# agregar un elemento al principio de la lista\n",
        "colores_primarios.insert(0,\"blabco\")\n",
        "print(colores_primarios)\n",
        "\n",
        "# quitar un elemento de la lista\n",
        "dias_laborales.remove(\"sabado\")\n",
        "print(dias_laborales)"
      ],
      "metadata": {
        "id": "efjfxhbQdfxf"
      },
      "execution_count": null,
      "outputs": []
    },
    {
      "cell_type": "code",
      "execution_count": null,
      "metadata": {
        "id": "76NDr_F4XJTO"
      },
      "outputs": [],
      "source": [
        "# creacion de listas usando el constructor list() sin parametros\n",
        "lista_3 = list()\n",
        "print(lista_3)\n",
        "\n",
        "lista_4 =list(range(10))\n",
        "print(lista_4)\n",
        "\n",
        "lista_5 = list(\"UIS Socorro\")\n",
        "print(lista_5)\n",
        "\n",
        "frase = \"UIS no es uno , somos todos. somos los que estamos en la lucha\"\n",
        "lista_6 = frase.split()\n",
        "print(lista_6)"
      ]
    },
    {
      "cell_type": "markdown",
      "source": [
        "TUPLAS\n",
        "\n",
        "---\n",
        "\n",
        "Conjunto ordenado e inmutable de elementos. No es posible añadir, modificar o  eliminar elementos. Se encierran entre parentesis y sus elementos se separan por comas."
      ],
      "metadata": {
        "id": "B9pSqCK7gfeh"
      }
    },
    {
      "cell_type": "markdown",
      "source": [
        "EJERCICIO:\n",
        "\n",
        "Usando funciones escriba un programa que reciba una lista y que devuelva como resultado una tupla almacenando el primer y ultimo elemento de la lista ,  en caso de que la lista no tenga dos o mas elemetos debe indicarlo."
      ],
      "metadata": {
        "id": "iZkrB-tWjKQU"
      }
    },
    {
      "cell_type": "code",
      "source": [
        "lista = list[1 , 2 , 3 , 4]\n",
        "tupla = lista\n",
        "\n",
        "print(tupla(0))"
      ],
      "metadata": {
        "id": "FmTlBzE-lmbc"
      },
      "execution_count": null,
      "outputs": []
    }
  ]
}